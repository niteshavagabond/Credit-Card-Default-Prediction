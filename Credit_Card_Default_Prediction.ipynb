{
  "nbformat": 4,
  "nbformat_minor": 0,
  "metadata": {
    "colab": {
      "provenance": [],
      "authorship_tag": "ABX9TyM/XpuNLNqCFEiA3GCOp4Cw",
      "include_colab_link": true
    },
    "kernelspec": {
      "name": "python3",
      "display_name": "Python 3"
    },
    "language_info": {
      "name": "python"
    }
  },
  "cells": [
    {
      "cell_type": "markdown",
      "metadata": {
        "id": "view-in-github",
        "colab_type": "text"
      },
      "source": [
        "<a href=\"https://colab.research.google.com/github/niteshavagabond/Credit-Card-Default-Prediction/blob/main/Credit_Card_Default_Prediction.ipynb\" target=\"_parent\"><img src=\"https://colab.research.google.com/assets/colab-badge.svg\" alt=\"Open In Colab\"/></a>"
      ]
    },
    {
      "cell_type": "markdown",
      "source": [
        "# Project Title - Credit Card Default Prediction"
      ],
      "metadata": {
        "id": "5TiF-ZUGO2qv"
      }
    },
    {
      "cell_type": "markdown",
      "source": [
        "##### **Project type -** Classification\n",
        "##### **Contribution -** Individual\n"
      ],
      "metadata": {
        "id": "ccNnRO0zPRHJ"
      }
    },
    {
      "cell_type": "markdown",
      "source": [
        "# Project Summary"
      ],
      "metadata": {
        "id": "0UyW0rIAPujv"
      }
    },
    {
      "cell_type": "markdown",
      "source": [],
      "metadata": {
        "id": "p9PIpXq5Px_z"
      }
    },
    {
      "cell_type": "code",
      "source": [],
      "metadata": {
        "id": "wxTbILMuPxWF"
      },
      "execution_count": null,
      "outputs": []
    }
  ]
}